{
 "cells": [
  {
   "cell_type": "code",
   "execution_count": 13,
   "metadata": {},
   "outputs": [
    {
     "name": "stdout",
     "output_type": "stream",
     "text": [
      "[{'name': 'ELL', 'synonyms': ['c19orf17', 'ell1', 'men', 'ppp1r68', 'ell', 'elongation factor for rna polymerase ii', 'rna polymerase ii elongation factor ell']}, {'name': 'NUP214', 'synonyms': ['cain', 'can', 'd9s46e', 'n214', 'nucleoporin 214kd (cain)', 'nucleoporin 214kda', 'nup214', 'nucleoporin 214', 'nuclear pore complex protein nup214']}, {'name': 'MET', 'synonyms': ['dfnb97', 'hgfr', 'met', 'met proto-oncogene', 'rccp2', 'met proto-oncogene, receptor tyrosine kinase', 'hepatocyte growth factor receptor', 'auts9', 'mesenchymal-epithelial transition factor']}, {'name': 'SPP1', 'synonyms': ['bnsp', 'bone sialoprotein i', 'bspi', 'eta-1', 'opn', 'osteopontin', 'spp1', 'secreted phosphoprotein 1']}, {'name': 'RAD54B', 'synonyms': ['rad54b', 'rdh54', 'rad54 homolog b (s. cerevisiae)', 'dna repair and recombination protein rad54b']}]\n"
     ]
    }
   ],
   "source": [
    "import yaml\n",
    "\n",
    "with open('data/genes.yaml', 'r') as file:\n",
    "    original_data = yaml.safe_load(file)\n",
    "    print(original_data[:5])\n"
   ]
  },
  {
   "cell_type": "code",
   "execution_count": 14,
   "metadata": {},
   "outputs": [
    {
     "data": {
      "text/plain": [
       "(20,\n",
       " {'name': 'ELL',\n",
       "  'synonyms': ['c19orf17',\n",
       "   'ell1',\n",
       "   'men',\n",
       "   'ppp1r68',\n",
       "   'ell',\n",
       "   'elongation factor for rna polymerase ii',\n",
       "   'rna polymerase ii elongation factor ell']})"
      ]
     },
     "execution_count": 14,
     "metadata": {},
     "output_type": "execute_result"
    }
   ],
   "source": [
    "len(original_data), original_data[0]"
   ]
  },
  {
   "cell_type": "code",
   "execution_count": 21,
   "metadata": {},
   "outputs": [],
   "source": [
    "def get_substring_coordinates(main_string: str, substring: str) -> list:\n",
    "    coordinates = []\n",
    "    start = 0\n",
    "    \n",
    "    main_string = main_string.lower()\n",
    "    substring = substring.lower()\n",
    "    while True:\n",
    "        start = main_string.find(substring, start)\n",
    "        if start == -1:\n",
    "            break\n",
    "        end = start + len(substring)\n",
    "        coordinates.append((start, end))\n",
    "        start += 1\n",
    "    \n",
    "    return coordinates\n",
    "\n",
    "\n",
    "def check_gene(input_str: str, gene: dict) -> dict | None:\n",
    "    all_gene_coords = []\n",
    "    for synonym in gene.get('synonyms', ''):\n",
    "        synonym_coords = get_substring_coordinates(input_str, synonym)\n",
    "        all_gene_coords.extend(synonym_coords)\n",
    "    if all_gene_coords:\n",
    "        gene_found = {\n",
    "            'name': gene.get('name'),\n",
    "            'positions': all_gene_coords\n",
    "        }\n",
    "        return gene_found\n",
    "        \n",
    "        \n",
    "    \n",
    "def get_genes(input_str: str) -> dict:\n",
    "    genes_found = []\n",
    "    for gene in original_data:\n",
    "        result = check_gene(input_str, gene)\n",
    "        if result is not None:\n",
    "            genes_found.append(result)\n",
    "    return {\n",
    "        \"genes\": genes_found\n",
    "    }"
   ]
  },
  {
   "cell_type": "code",
   "execution_count": 22,
   "metadata": {},
   "outputs": [
    {
     "data": {
      "text/plain": [
       "{'genes': [{'name': 'NUP214', 'positions': [(10, 13)]}]}"
      ]
     },
     "execution_count": 22,
     "metadata": {},
     "output_type": "execute_result"
    }
   ],
   "source": [
    "get_genes('The human CAN protein, a putative oncogene product associated with myeloid leukemogenesis')"
   ]
  }
 ],
 "metadata": {
  "kernelspec": {
   "display_name": "Python 3",
   "language": "python",
   "name": "python3"
  },
  "language_info": {
   "codemirror_mode": {
    "name": "ipython",
    "version": 3
   },
   "file_extension": ".py",
   "mimetype": "text/x-python",
   "name": "python",
   "nbconvert_exporter": "python",
   "pygments_lexer": "ipython3",
   "version": "3.10.10"
  }
 },
 "nbformat": 4,
 "nbformat_minor": 2
}
