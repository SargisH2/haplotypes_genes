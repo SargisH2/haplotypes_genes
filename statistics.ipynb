{
 "cells": [
  {
   "cell_type": "code",
   "execution_count": 6,
   "metadata": {},
   "outputs": [
    {
     "data": {
      "text/plain": [
       "(40,\n",
       " {'text': 'The MEN gene (also called ELL) encodes an RNA polymerase II elongation factor that has been implicated in t(11;19)(q23;p13.1) translocation in myeloid leukemias. ',\n",
       "  'genes': [{'name': 'ELL', 'positions': [[4, 7], [26, 29]]}],\n",
       "  'hla': []})"
      ]
     },
     "execution_count": 6,
     "metadata": {},
     "output_type": "execute_result"
    }
   ],
   "source": [
    "from genes_and_haplotypes import get_genes, get_hla\n",
    "import json\n",
    "with open('data/test_texts.json', 'r') as f:\n",
    "    data = json.load(f)\n",
    "len(data), data[1]\n",
    "# FP, FN, TP, TN, precision, recall, F1"
   ]
  },
  {
   "cell_type": "code",
   "execution_count": 7,
   "metadata": {},
   "outputs": [
    {
     "data": {
      "text/plain": [
       "{'origin_result': {'genes': [{'name': 'ELL',\n",
       "    'positions': [[4, 7], [26, 29]]}]},\n",
       " 'func_result': {'genes': [{'name': 'ELL', 'positions': [[4, 7], [26, 29]]}]}}"
      ]
     },
     "execution_count": 7,
     "metadata": {},
     "output_type": "execute_result"
    }
   ],
   "source": [
    "functions = {\n",
    "    'genes': get_genes,\n",
    "    'hla': get_hla\n",
    "}\n",
    "\n",
    "def get_results(origin_dict: dict) -> bool:\n",
    "    obj_type = 'hla' if origin_dict.get('hla') else 'genes'\n",
    "    func = functions[obj_type]\n",
    "    input_text = origin_dict['text']\n",
    "    \n",
    "    origin_result = {obj_type: origin_dict[obj_type]}\n",
    "    func_result = func(input_text)\n",
    "    for found in func_result[obj_type]: found['positions'].sort(key=lambda pos: pos[0])\n",
    "    \n",
    "    return {\n",
    "        \"origin_result\": origin_result, \n",
    "        \"func_result\": func_result\n",
    "    }\n",
    "\n",
    "get_results(data[1])\n",
    "    \n",
    "    "
   ]
  },
  {
   "cell_type": "code",
   "execution_count": 8,
   "metadata": {},
   "outputs": [
    {
     "name": "stdout",
     "output_type": "stream",
     "text": [
      "{'genes': [{'name': 'NUP214', 'positions': [[44, 47], [48, 54]]}]}\n",
      "{'genes': [{'name': 'NUP214', 'positions': [[44, 47], [48, 54]]}, {'name': 'FANCE', 'positions': [[74, 78]]}]}\n",
      "{'text': 'A novel nucleoporin that is associated with CAN/Nup214 on the cytoplasmic face of the nuclear pore complex', 'genes': [{'name': 'NUP214', 'positions': [[44, 47], [48, 54]]}], 'hla': []}\n",
      "\n",
      "{'genes': [{'name': 'SPP1', 'positions': [[0, 5], [7, 18]]}]}\n",
      "{'genes': [{'name': 'ELL', 'positions': [[52, 55]]}, {'name': 'SPP1', 'positions': [[0, 5], [7, 18]]}]}\n",
      "{'text': 'Eta-1 (osteopontin): an early component of type-1 (cell-mediated) immunity', 'genes': [{'name': 'SPP1', 'positions': [[0, 5], [7, 18]]}], 'hla': []}\n",
      "\n",
      "{'genes': [{'name': 'MMP16', 'positions': [[0, 12]]}]}\n",
      "{'genes': [{'name': 'ELL', 'positions': [[78, 81]]}, {'name': 'MET', 'positions': [[28, 31]]}, {'name': 'MMP16', 'positions': [[0, 12]]}]}\n",
      "{'text': 'dKfzP761d112 promotes tumor metastasis and indicates poor prognosis in hepatocellular carcinoma', 'genes': [{'name': 'MMP16', 'positions': [[0, 12]]}], 'hla': []}\n",
      "\n",
      "{'genes': [{'name': 'ZFHX4', 'positions': [[4, 26], [28, 33]]}]}\n",
      "{'genes': [{'name': 'ELL', 'positions': [[102, 105]]}, {'name': 'ZFHX4', 'positions': [[4, 26], [28, 33]]}]}\n",
      "{'text': 'The zinc finger homeobox 4 (ZFHX4) protein is a crucial molecular regulator of tumor-initiating stem cell-like functions.', 'genes': [{'name': 'ZFHX4', 'positions': [[4, 26], [28, 33]]}], 'hla': []}\n",
      "\n",
      "{'genes': [{'name': 'IGF2R', 'positions': [0, 28]}]}\n",
      "{'genes': [{'name': 'RET', 'positions': [[45, 48]]}]}\n",
      "{'text': 'Insulin-like growth factor-2 regulates basal retinal insulin receptor activity', 'genes': [{'name': 'IGF2R', 'positions': [0, 28]}], 'hla': []}\n",
      "\n",
      "{'genes': [{'name': 'IL2RA', 'positions': [[29, 33]]}]}\n",
      "{'genes': [{'name': 'ELL', 'positions': [[45, 48]]}, {'name': 'IL2RA', 'positions': [[29, 33]]}]}\n",
      "{'text': 'Causal relationships between CD25 on immune cells and hip osteoarthritis.', 'genes': [{'name': 'IL2RA', 'positions': [[29, 33]]}], 'hla': []}\n",
      "\n",
      "{'genes': [{'name': 'TNR', 'positions': [[136, 146]]}]}\n",
      "{'genes': [{'name': 'MET', 'positions': [[70, 73]]}, {'name': 'TNR', 'positions': [[136, 146]]}]}\n",
      "{'text': 'The autoantigen was identified by immunoprecipitation and mass spectrometry and confirmed by antigen-specific assays to be specific for tenascin-R.', 'genes': [{'name': 'TNR', 'positions': [[136, 146]]}], 'hla': []}\n",
      "\n",
      "{'genes': [{'name': 'COL6A6', 'positions': [[124, 150]]}]}\n",
      "{'genes': [{'name': 'ELL', 'positions': [[99, 102]]}, {'name': 'NUP214', 'positions': [[57, 60]]}, {'name': 'COL6A6', 'positions': [[124, 150]]}]}\n",
      "{'text': 'Proteomic responses exhibited that As (III) had a significant negative effect on cytoskeleton and cell structure (actin and collagen alpha-6(VI) chain).', 'genes': [{'name': 'COL6A6', 'positions': [[124, 150]]}], 'hla': []}\n",
      "\n",
      "{'genes': [{'name': 'TLR5', 'positions': [[0, 20], [22, 26]]}]}\n",
      "{'genes': [{'name': 'ELL', 'positions': [[95, 98]]}, {'name': 'TLR5', 'positions': [[0, 20], [22, 26]]}]}\n",
      "{'text': 'Toll-like receptor 5 (TLR5) is a pattern recognition receptor that specifically recognizes flagellin and consequently plays a crucial role in the control of intestinal homeostasis by activating innate and adaptive immune responses.', 'genes': [{'name': 'TLR5', 'positions': [[0, 20], [22, 26]]}], 'hla': []}\n",
      "\n",
      "{'hla': [{'gene': 'A', 'allele': '02', 'protein': '01', 'positions': [[0, 10]]}, {'gene': 'A', 'allele': '2', 'protein': '1', 'positions': [[12, 20]]}]}\n",
      "{'hla': [{'gene': 'A', 'allele': '02', 'protein': '01', 'positions': [[0, 10]]}, {'gene': 'A', 'allele': '2', 'protein': '1', 'positions': [[11, 21]]}]}\n",
      "{'text': 'HLA-A*0201 (HLA-A2.1) by molecular subtyping', 'genes': [], 'hla': [{'gene': 'A', 'allele': '02', 'protein': '01', 'positions': [[0, 10]]}, {'gene': 'A', 'allele': '2', 'protein': '1', 'positions': [[12, 20]]}]}\n",
      "\n",
      "{'hla': [{'gene': 'A', 'allele': None, 'protein': None, 'positions': [[24, 34]]}]}\n",
      "{'hla': []}\n",
      "{'text': 'Human Leukocyte Antigen (HLA)-A*02+ participants with opn+ can participate in this trial', 'genes': [{'name': 'SPP1', 'positions': [[54, 57]]}], 'hla': [{'gene': 'A', 'allele': None, 'protein': None, 'positions': [[24, 34]]}]}\n",
      "\n",
      "{'hla': [{'gene': 'A', 'allele': None, 'protein': None, 'positions': [[6, 11]]}, {'gene': 'DRB1', 'allele': None, 'protein': None, 'positions': [[24, 32]]}, {'gene': 'B', 'allele': None, 'protein': None, 'positions': [[13, 18]]}]}\n",
      "{'hla': [{'gene': 'A', 'allele': None, 'protein': None, 'positions': [[6, 11]]}, {'gene': 'B', 'allele': None, 'protein': None, 'positions': [[13, 18]]}, {'gene': 'DRB1', 'allele': None, 'protein': None, 'positions': [[24, 32]]}]}\n",
      "{'text': 'Novel HLA-A, HLA-B, and HLA-DRB1 alleles identified in Brazilian individuals', 'genes': [], 'hla': [{'gene': 'A', 'allele': None, 'protein': None, 'positions': [[6, 11]]}, {'gene': 'DRB1', 'allele': None, 'protein': None, 'positions': [[24, 32]]}, {'gene': 'B', 'allele': None, 'protein': None, 'positions': [[13, 18]]}]}\n",
      "\n",
      "{'hla': [{'gene': 'DQB1', 'allele': None, 'protein': None, 'positions': [[10, 18]]}, {'gene': 'DQB1', 'allele': '05', 'protein': '02', 'positions': [[27, 37]]}]}\n",
      "{'hla': [{'gene': 'DQB1', 'allele': None, 'protein': None, 'positions': [[10, 18]]}]}\n",
      "{'text': 'The novel HLA-DQB1 allele, DQB1*05:02:23.', 'genes': [], 'hla': [{'gene': 'DQB1', 'allele': None, 'protein': None, 'positions': [[10, 18]]}, {'gene': 'DQB1', 'allele': '05', 'protein': '02', 'positions': [[27, 37]]}]}\n",
      "\n",
      "{'hla': [{'gene': 'B', 'allele': '55', 'protein': '01', 'positions': [[24, 35]]}, {'gene': 'B', 'allele': None, 'protein': None, 'positions': [[10, 15]]}]}\n",
      "{'hla': [{'gene': 'B', 'allele': None, 'protein': None, 'positions': [[10, 15], [24, 29]]}, {'gene': 'B', 'allele': '55', 'protein': '01', 'positions': [[24, 38]]}]}\n",
      "{'text': 'The novel HLA-B allele, HLA-B*55:01:27.', 'genes': [], 'hla': [{'gene': 'B', 'allele': '55', 'protein': '01', 'positions': [[24, 35]]}, {'gene': 'B', 'allele': None, 'protein': None, 'positions': [[10, 15]]}]}\n",
      "\n",
      "{'hla': [{'gene': 'A', 'allele': '2', 'protein': None, 'positions': [[20, 26]]}]}\n",
      "{'hla': []}\n",
      "{'text': 'Participant must be HLA-A2+. Retesting is not required for patients who have previous documented positivity', 'genes': [], 'hla': [{'gene': 'A', 'allele': '2', 'protein': None, 'positions': [[20, 26]]}]}\n",
      "\n",
      "{'hla': [{'gene': 'B', 'allele': '7', 'protein': '01', 'positions': [[55, 65]]}]}\n",
      "{'hla': []}\n",
      "{'text': 'Prospective Epidemiological Study of the Prevalence of HLA-B*7:01 in HIV-1 Infected UK Patients', 'genes': [], 'hla': [{'gene': 'B', 'allele': '7', 'protein': '01', 'positions': [[55, 65]]}]}\n",
      "\n",
      "{'hla': [{'gene': 'C', 'allele': '01', 'protein': '02', 'positions': [[53, 64]]}, {'gene': 'C', 'allele': '01', 'protein': '225', 'positions': [[0, 12]]}]}\n",
      "{'hla': [{'gene': 'C', 'allele': '01', 'protein': '22', 'positions': [[0, 12]]}, {'gene': 'C', 'allele': '01', 'protein': '02', 'positions': [[53, 70]]}]}\n",
      "{'text': 'HLA-C*01:225 has one nucleotide change compared with HLA-C*01:02:01:01 in codon 110 of exon 3.', 'genes': [], 'hla': [{'gene': 'C', 'allele': '01', 'protein': '02', 'positions': [[53, 64]]}, {'gene': 'C', 'allele': '01', 'protein': '225', 'positions': [[0, 12]]}]}\n",
      "\n",
      "{'hla': [{'gene': 'DQB1', 'allele': '06', 'protein': '03', 'positions': [[0, 14]]}, {'gene': 'DQB1', 'allele': '06', 'protein': '03', 'positions': [[31, 45]]}]}\n",
      "{'hla': [{'gene': 'DQB1', 'allele': '06', 'protein': '03', 'positions': [[0, 17]]}, {'gene': 'DQB1', 'allele': '06', 'protein': '03', 'positions': [[31, 48]]}]}\n",
      "{'text': 'HLA-DQB1*06:03:47 differs from HLA-DQB1*06:03:01 by one synonymous nucleotide substitution in codon 158 in exon 3.', 'genes': [], 'hla': [{'gene': 'DQB1', 'allele': '06', 'protein': '03', 'positions': [[0, 14]]}, {'gene': 'DQB1', 'allele': '06', 'protein': '03', 'positions': [[31, 45]]}]}\n",
      "\n",
      "{'hla': [{'gene': 'DRB4', 'allele': '01', 'protein': '162', 'positions': [[4, 16]]}]}\n",
      "{'hla': [{'gene': 'DRB4', 'allele': '01', 'protein': '16', 'positions': [[4, 20]]}]}\n",
      "{'text': 'The HLA-DRB4*01:162N allele', 'genes': [], 'hla': [{'gene': 'DRB4', 'allele': '01', 'protein': '162', 'positions': [[4, 16]]}]}\n",
      "\n",
      "{'hla': [{'gene': 'A', 'allele': '24', 'protein': '02', 'positions': [[0, 30]]}]}\n",
      "{'hla': []}\n",
      "{'text': 'Human Leukocyte Antigen-A*2402-Restricted Tumor Vessel Specific Peptide Vaccination for Advanced Pancreatic Cancer', 'genes': [], 'hla': [{'gene': 'A', 'allele': '24', 'protein': '02', 'positions': [[0, 30]]}]}\n",
      "\n",
      "{'hla': [{'gene': 'A', 'allele': '01', 'protein': '01', 'positions': [[48, 59]]}, {'gene': 'A', 'allele': '01', 'protein': '390', 'positions': [[0, 13]]}]}\n",
      "{'hla': [{'gene': 'A', 'allele': '01', 'protein': '01', 'positions': [[48, 65]]}]}\n",
      "{'text': 'HLA- A*01:390 has three nucleotide changes from HLA-A*01:01:01:01 at nucleotides 571, 779, 1123', 'genes': [], 'hla': [{'gene': 'A', 'allele': '01', 'protein': '01', 'positions': [[48, 59]]}, {'gene': 'A', 'allele': '01', 'protein': '390', 'positions': [[0, 13]]}]}\n",
      "\n",
      "{'hla': [{'gene': 'B', 'allele': '35', 'protein': '572', 'positions': [[0, 12]]}, {'gene': 'C', 'allele': '04', 'protein': '491', 'positions': [[17, 29]]}]}\n",
      "{'hla': [{'gene': 'B', 'allele': '35', 'protein': '57', 'positions': [[0, 12]]}, {'gene': 'C', 'allele': '04', 'protein': '49', 'positions': [[17, 29]]}]}\n",
      "{'text': 'HLA-B*35:572 and HLA-C*04:491, two novel HLA class I alleles detected by next-generation sequencing', 'genes': [], 'hla': [{'gene': 'B', 'allele': '35', 'protein': '572', 'positions': [[0, 12]]}, {'gene': 'C', 'allele': '04', 'protein': '491', 'positions': [[17, 29]]}]}\n",
      "\n",
      "{'hla': [{'gene': 'A', 'allele': '02', 'protein': '01', 'positions': [[0, 31]]}]}\n",
      "{'hla': []}\n",
      "{'text': 'Human Leukocyte Antigen-A*02:01-restricted Tumor Vessel Specific Peptide Vaccination for Advanced Pancreatic Cancer', 'genes': [], 'hla': [{'gene': 'A', 'allele': '02', 'protein': '01', 'positions': [[0, 31]]}]}\n",
      "\n",
      "{'hla': [{'gene': 'A', 'allele': '2', 'protein': None, 'positions': [[62, 68]]}]}\n",
      "{'hla': [{'gene': 'A2', 'allele': None, 'protein': None, 'positions': [[62, 68]]}]}\n",
      "{'text': 'Immunization of Disease-Free Melanoma Patients With Different HLA-A2 Peptides', 'genes': [], 'hla': [{'gene': 'A', 'allele': '2', 'protein': None, 'positions': [[62, 68]]}]}\n",
      "\n",
      "{'hla': [{'gene': 'A', 'allele': None, 'protein': None, 'positions': [[17, 22]]}, {'gene': 'B', 'allele': None, 'protein': None, 'positions': [[25, 26]]}, {'gene': 'C', 'allele': None, 'protein': None, 'positions': [[29, 30]]}, {'gene': 'DRB1', 'allele': None, 'protein': None, 'positions': [[33, 37]]}]}\n",
      "{'hla': [{'gene': 'A', 'allele': None, 'protein': None, 'positions': [[17, 22]]}]}\n",
      "{'text': 'Distributions of HLA-A, -B, -C, -DRB1 and -DQB1 alleles typed by next generation sequencing in Russian volunteer donors', 'genes': [], 'hla': [{'gene': 'A', 'allele': None, 'protein': None, 'positions': [[17, 22]]}, {'gene': 'B', 'allele': None, 'protein': None, 'positions': [[25, 26]]}, {'gene': 'C', 'allele': None, 'protein': None, 'positions': [[29, 30]]}, {'gene': 'DRB1', 'allele': None, 'protein': None, 'positions': [[33, 37]]}]}\n",
      "\n",
      "15\n"
     ]
    }
   ],
   "source": [
    "sum = 0\n",
    "for g_or_h in data:\n",
    "    results = get_results(g_or_h)\n",
    "    if results['origin_result'] == results['func_result']:\n",
    "        sum += 1\n",
    "    else:\n",
    "        print(results['origin_result'])\n",
    "        print(results['func_result'])\n",
    "        print(g_or_h)\n",
    "        print()\n",
    "print(sum)"
   ]
  },
  {
   "cell_type": "code",
   "execution_count": 9,
   "metadata": {},
   "outputs": [
    {
     "data": {
      "text/plain": [
       "{'genes': [{'name': 'NUP214', 'positions': [[44, 47], [48, 54]]},\n",
       "  {'name': 'FANCE', 'positions': [[74, 78]]}]}"
      ]
     },
     "execution_count": 9,
     "metadata": {},
     "output_type": "execute_result"
    }
   ],
   "source": [
    "get_genes('A novel nucleoporin that is associated with CAN/Nup214 on the cytoplasmic face of the nuclear pore complex')"
   ]
  },
  {
   "cell_type": "code",
   "execution_count": null,
   "metadata": {},
   "outputs": [],
   "source": []
  }
 ],
 "metadata": {
  "kernelspec": {
   "display_name": "Python 3",
   "language": "python",
   "name": "python3"
  },
  "language_info": {
   "codemirror_mode": {
    "name": "ipython",
    "version": 3
   },
   "file_extension": ".py",
   "mimetype": "text/x-python",
   "name": "python",
   "nbconvert_exporter": "python",
   "pygments_lexer": "ipython3",
   "version": "3.10.10"
  }
 },
 "nbformat": 4,
 "nbformat_minor": 2
}
