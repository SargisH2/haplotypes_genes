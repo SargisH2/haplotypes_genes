{
 "cells": [
  {
   "cell_type": "code",
   "execution_count": 1,
   "metadata": {},
   "outputs": [],
   "source": [
    "# HLA-A*02:101:01:02N\n",
    "text_input = \"HLA-A2.1 positivity by molecular subtyping\"\n",
    "example_output = {\n",
    "    \"hla\": [\n",
    "        {\n",
    "            \"gene\": \"A\",\n",
    "            \"allele_group\": \"2\",\n",
    "            \"protein\": \"1\",\n",
    "            \"positions\": [\n",
    "                    (0, 8)\n",
    "                ]\n",
    "        }\n",
    "    ]\n",
    "}"
   ]
  },
  {
   "cell_type": "code",
   "execution_count": 3,
   "metadata": {},
   "outputs": [
    {
     "name": "stdout",
     "output_type": "stream",
     "text": [
      "'HLA-A*02:101:01:02N' is a valid HLA notation.\n",
      "'HLA-B*05:501:10' is a valid HLA notation.\n",
      "'HLA-C*07:350' is a valid HLA notation.\n",
      "'HLA-DRB1*15:02:01' is a valid HLA notation.\n",
      "'HLA-A*24' is a valid HLA notation.\n",
      "'Incorrect*Format01' is NOT a valid HLA notation.\n",
      "'HLA-A2.1' is NOT a valid HLA notation.\n"
     ]
    }
   ],
   "source": [
    "import re\n",
    "\n",
    "pattern = r'HLA-(A|B|C|DRB1)\\*\\d{2}(:\\d{3}(:\\d{2}(:\\d{2}[A-Z]?)?)?)?'\n",
    "\n",
    "examples = [\n",
    "    \"HLA-A*02:101:01:02N\",\n",
    "    \"HLA-B*05:501:10\",\n",
    "    \"HLA-C*07:350\",\n",
    "    \"HLA-DRB1*15:02:01\",\n",
    "    \"HLA-A*24\",\n",
    "    \"Incorrect*Format01\",\n",
    "    \"HLA-A2.1\"\n",
    "]\n",
    "\n",
    "for example in examples:\n",
    "    match = re.match(pattern, example)\n",
    "    if match:\n",
    "        print(f\"'{example}' is a valid HLA notation.\")\n",
    "    else:\n",
    "        print(f\"'{example}' is NOT a valid HLA notation.\")\n"
   ]
  },
  {
   "cell_type": "code",
   "execution_count": 2,
   "metadata": {},
   "outputs": [],
   "source": [
    "import re\n",
    "\n",
    "pattern = r'HLA-(A|B|C|DRB1)(\\*\\d{2}(:\\d{2}(:\\d{2}(:\\d{2}[A-Z]?)?)?)?|\\d\\.\\d)'\n",
    "\n",
    "examples = [\n",
    "    \"HLA-A*02:101:01:02N\",\n",
    "    \"HLA-B*05:501:10\",\n",
    "    \"HLA-C*07:350\",\n",
    "    \"HLA-DRB1*15:02:01\",\n",
    "    \"HLA-A*24\",\n",
    "    \"HLA-A2.1\",\n",
    "    \"HLA-B1.5\",\n",
    "    \"HLA-1.5\",\n",
    "    \"Incorrect*Format01\"\n",
    "]\n",
    "\n",
    "# for example in examples:\n",
    "#     match = re.match(pattern, example)\n",
    "#     if match:\n",
    "#         print(f\"'{example}' is a valid HLA notation.\")\n",
    "#     else:\n",
    "#         print(f\"'{example}' is NOT a valid HLA notation.\")\n"
   ]
  },
  {
   "cell_type": "code",
   "execution_count": 10,
   "metadata": {},
   "outputs": [
    {
     "name": "stdout",
     "output_type": "stream",
     "text": [
      "'HLA-A*02:101:01:02N' is a valid HLA notation.\n",
      "'HLA-B*05:501:10' is a valid HLA notation.\n",
      "'HLA-C*07:350' is a valid HLA notation.\n",
      "'HLA-DRB1*15:02:01' is NOT a valid HLA notation.\n",
      "'HLA-A*24' is NOT a valid HLA notation.\n",
      "'HLA-A2.1' is a valid HLA notation.\n",
      "'HLA-B1.5' is a valid HLA notation.\n",
      "'HLA-1.5' is NOT a valid HLA notation.\n",
      "'Incorrect*Format01' is NOT a valid HLA notation.\n"
     ]
    }
   ],
   "source": [
    "my_pattern = '(HLA-[A-Z]+)(\\*?)([0-9][0-9]?)(\\.|:)([0-9][0-9]?)'\n",
    "split_pattern = '\\.|:'\n",
    "for example in examples:\n",
    "    # splited = re.split(my_pattern, example)\n",
    "    # print(example, splited)\n",
    "    match = re.match(my_pattern, example)\n",
    "    if match:\n",
    "        print(f\"'{example}' is a valid HLA notation.\")\n",
    "    else:\n",
    "        print(f\"'{example}' is NOT a valid HLA notation.\")"
   ]
  },
  {
   "cell_type": "code",
   "execution_count": 27,
   "metadata": {},
   "outputs": [
    {
     "data": {
      "text/plain": [
       "['asdf', 'qwer', 'tre']"
      ]
     },
     "execution_count": 27,
     "metadata": {},
     "output_type": "execute_result"
    }
   ],
   "source": [
    "test = 'HLA-A*0201 (HLA-A2.1)'\n",
    "split_pattern = '\\.|:'\n",
    "re.split(split_pattern, test)"
   ]
  }
 ],
 "metadata": {
  "kernelspec": {
   "display_name": "Python 3",
   "language": "python",
   "name": "python3"
  },
  "language_info": {
   "codemirror_mode": {
    "name": "ipython",
    "version": 3
   },
   "file_extension": ".py",
   "mimetype": "text/x-python",
   "name": "python",
   "nbconvert_exporter": "python",
   "pygments_lexer": "ipython3",
   "version": "3.10.10"
  }
 },
 "nbformat": 4,
 "nbformat_minor": 2
}
